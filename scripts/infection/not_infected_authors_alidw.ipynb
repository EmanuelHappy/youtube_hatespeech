{
 "cells": [
  {
   "cell_type": "code",
   "execution_count": 1,
   "metadata": {},
   "outputs": [],
   "source": [
    "import pickle\n",
    "import numpy as np\n",
    "import pandas as pd\n",
    "\n",
    "\n",
    "def bootstrap(data, n=1000, func=np.mean):\n",
    "    simulations = list()\n",
    "    sample_size = len(data)\n",
    "    for _ in range(n):\n",
    "        itersample = np.random.choice(data, size=sample_size, replace=True)\n",
    "        simulations.append(func(itersample))\n",
    "    simulations.sort()\n",
    "\n",
    "    def ci(p):\n",
    "        u_pval = (1 + p) / 2.\n",
    "        l_pval = (1 - u_pval)\n",
    "        l_indx = int(np.floor(n * l_pval))\n",
    "        u_indx = int(np.floor(n * u_pval))\n",
    "        return simulations[l_indx], simulations[u_indx]\n",
    "\n",
    "    return ci"
   ]
  },
  {
   "cell_type": "code",
   "execution_count": 2,
   "metadata": {},
   "outputs": [],
   "source": [
    "bins_y_s = [\n",
    "    (1462017600000, 1493553600000),  # Apr 30,16 - Apr 30,17\n",
    "    (1493553600000, 1525089600000),  # Apr 30,17 - Apr 30,18\n",
    "    (1525089600000, 1556625600000)  # Apr 30,18 - Apr 30,19\n",
    "]"
   ]
  },
  {
   "cell_type": "code",
   "execution_count": null,
   "metadata": {},
   "outputs": [],
   "source": [
    "c = 0\n",
    "not_comm = 0\n",
    "with open(\"authors_split_new2.pickle\", \"rb\") as fp:\n",
    "    authors = pickle.load(fp)"
   ]
  },
  {
   "cell_type": "code",
   "execution_count": 5,
   "metadata": {},
   "outputs": [
    {
     "name": "stdout",
     "output_type": "stream",
     "text": [
      "0 0\n",
      "100000 0\n",
      "200000 0\n",
      "300000 0\n",
      "400000 0\n",
      "500000 0\n",
      "600000 0\n",
      "700000 0\n",
      "800000 0\n",
      "900000 0\n",
      "1000000 0\n",
      "1100000 0\n",
      "1200000 0\n",
      "1300000 0\n",
      "1400000 0\n",
      "1500000 0\n",
      "1600000 0\n",
      "1700000 0\n",
      "1800000 0\n",
      "1900000 0\n",
      "2000000 0\n",
      "2100000 203\n",
      "2200000 1369\n",
      "2300000 4173\n",
      "2400000 51270\n",
      "2500000 101536\n",
      "2600000 131011\n",
      "2700000 189111\n",
      "2800000 289807\n",
      "2900000 371191\n",
      "3000000 420914\n",
      "3100000 487436\n",
      "3200000 538831\n",
      "3300000 539171\n",
      "3400000 607023\n",
      "3500000 699405\n",
      "3600000 811693\n",
      "3700000 876558\n",
      "3800000 956748\n",
      "3900000 1071001\n",
      "4000000 1185245\n",
      "4100000 1361721\n",
      "4200000 1442745\n",
      "4300000 1637902\n",
      "4400000 1760466\n",
      "4500000 1875597\n",
      "4600000 2060560\n",
      "4700000 2181693\n",
      "4800000 2337282\n",
      "4900000 2473200\n",
      "5000000 2677335\n",
      "5100000 2813200\n",
      "5200000 2910117\n",
      "5300000 2991940\n",
      "5400000 3058049\n"
     ]
    }
   ],
   "source": [
    "al_idw = []\n",
    "c = 0\n",
    "for value in authors:\n",
    "    if c%100000 == 0:\n",
    "        print(c, len(al_idw)), len(y_16)\n",
    "    c+=1\n",
    "    al_aux = []\n",
    "    idw_aux = []\n",
    "    d = {\"Alt-right\": [], \"Alt-lite\": [], \"Intellectual Dark Web\": [], \"control\": []}\n",
    "    s_not = s_16 = s_17 = s_18 = False\n",
    "\n",
    "    for comm in value:\n",
    "        if comm['timestamp'] < bins_y_s[0][0]:\n",
    "            continue\n",
    "        cat = comm[\"category\"]\n",
    "\n",
    "        if cat == \"Alt-right\" or cat == \"Alt-lite\" or cat == \"Intellectual Dark Web\":\n",
    "            d[cat].append((comm[\"timestamp\"], comm[\"id\"]))\n",
    "            if cat == \"Alt-lite\":\n",
    "                al_aux.append((comm[\"timestamp\"], comm[\"id\"]))\n",
    "            elif cat == \"Intellectual Dark Web\":\n",
    "                idw_aux.append((comm[\"timestamp\"], comm[\"id\"]))\n",
    "        else:\n",
    "            d[\"control\"].append((comm[\"timestamp\"], comm[\"id\"]))\n",
    "\n",
    "    if len(d[\"Alt-right\"]) == 0:\n",
    "        if len(d[\"Alt-lite\"]) > 0 and len(d[\"Intellectual Dark Web\"]) > 0 and len(d[\"control\"]) > 0:\n",
    "            continue\n",
    "        elif len(d[\"Alt-lite\"]) > 0 and len(d[\"Intellectual Dark Web\"]) > 0:\n",
    "            al_idw.extend(al_aux)\n",
    "            al_idw.extend(idw_aux)\n",
    "    "
   ]
  },
  {
   "cell_type": "code",
   "execution_count": 6,
   "metadata": {},
   "outputs": [],
   "source": [
    "with open(\"al_idw_authors_only.pickle\", \"wb\") as fp:\n",
    "    pickle.dump(al_idw, fp, protocol=4)"
   ]
  },
  {
   "cell_type": "markdown",
   "metadata": {},
   "source": [
    "# Perspective"
   ]
  },
  {
   "cell_type": "code",
   "execution_count": 3,
   "metadata": {},
   "outputs": [],
   "source": [
    "with open(\"al_idw_authors_only.pickle\", \"rb\") as fp:\n",
    "    al_idw = pickle.load(fp)"
   ]
  },
  {
   "cell_type": "code",
   "execution_count": 4,
   "metadata": {},
   "outputs": [],
   "source": [
    "middle_path = \"./../../data/sentiment/\"\n",
    "filenames = [\"0_5000000\", \"0_10000000\", \"0_15000000\", \"0_20000001\", \"2_2390000\", \"2.1_640000\", \"2.2_285042\",\n",
    "             \"2.3_887730\", \"2.4_6000000\", \"3_7900000\", \"3.1_2180000\", \"4.1_4581097\", \"4.2_320000\", \"4.3_1050000\",\n",
    "             \"4_2200000\", \"5.1_2300000\", \"5.2_6139999\", \"6.1_2858690\", \"6.2_6109999\", \"7.1_3859623\"]"
   ]
  },
  {
   "cell_type": "code",
   "execution_count": 5,
   "metadata": {},
   "outputs": [
    {
     "name": "stdout",
     "output_type": "stream",
     "text": [
      "0_5000000\n",
      "4999999 4999999\n",
      "0_10000000\n",
      "5000000 5000000\n",
      "0_15000000\n",
      "5000000 5000000\n",
      "0_20000001\n",
      "5000000 5000000\n",
      "2_2390000\n",
      "2390000 2390000\n",
      "2.1_640000\n",
      "640000 640000\n",
      "2.2_285042\n",
      "285042 285042\n",
      "2.3_887730\n",
      "887730 887730\n",
      "2.4_6000000\n",
      "6000000 6000000\n",
      "3_7900000\n",
      "7899999 7899999\n",
      "3.1_2180000\n",
      "2180000 2180000\n",
      "4.1_4581097\n",
      "4581097 4581097\n",
      "4.2_320000\n",
      "319999 319999\n",
      "4.3_1050000\n",
      "1050000 1050000\n",
      "4_2200000\n",
      "2199999 2199999\n",
      "5.1_2300000\n",
      "2300000 2300000\n",
      "5.2_6139999\n",
      "6139999 6139999\n",
      "6.1_2858690\n",
      "2858690 2858690\n",
      "6.2_6109999\n",
      "6109999 6109999\n",
      "7.1_3859623\n",
      "3859623 3859623\n"
     ]
    }
   ],
   "source": [
    "ks = {}\n",
    "for file in filenames:\n",
    "    print(file)\n",
    "    with open(f\"{middle_path}values/perspective_val/perspective_{file}_val\", \"rb\") as fp:\n",
    "        perspective = pickle.load(fp)\n",
    "    with open(f\"{middle_path}ids/perspective_id/perspective_{file}_id\", \"rb\") as fp:\n",
    "        ide = pickle.load(fp)\n",
    "\n",
    "    print(len(ide), len(perspective))\n",
    "    for i in range(len(perspective)):\n",
    "        ks[ide[i]] = perspective[i]\n",
    "    del ide\n",
    "    del perspective"
   ]
  },
  {
   "cell_type": "code",
   "execution_count": 6,
   "metadata": {},
   "outputs": [
    {
     "name": "stdout",
     "output_type": "stream",
     "text": [
      "removed\n"
     ]
    }
   ],
   "source": [
    "with open(\"./../../data/sentiment/ids/removed_ids/remove_ids.pickle\", \"rb\") as fp:\n",
    "    removed = pickle.load(fp)\n",
    "print(\"removed\")"
   ]
  },
  {
   "cell_type": "code",
   "execution_count": 7,
   "metadata": {},
   "outputs": [],
   "source": [
    "al_idw_2016 = []\n",
    "al_idw_2017 = []\n",
    "al_idw_2018 = []\n",
    "for year, ide in al_idw:\n",
    "    if ide in removed:\n",
    "        continue\n",
    "    elif ide in ks and bins_y_s[0][0] <= year <= bins_y_s[0][1] and len(ks[ide]) > 0:\n",
    "        al_idw_2016.append(ks[ide][1])\n",
    "    elif ide in ks and bins_y_s[1][0] <= year <= bins_y_s[1][1] and len(ks[ide]) > 0:\n",
    "        al_idw_2017.append(ks[ide][1])\n",
    "    elif ide in ks and bins_y_s[2][0] <= year <= bins_y_s[2][1] and len(ks[ide]) > 0:\n",
    "        al_idw_2018.append(ks[ide][1])\n",
    "del al_idw"
   ]
  },
  {
   "cell_type": "code",
   "execution_count": 9,
   "metadata": {},
   "outputs": [
    {
     "name": "stdout",
     "output_type": "stream",
     "text": [
      "0.2609794775808932 556941\n",
      "0.23145888187528568 729180\n",
      "0.20667942779085313 1448758\n"
     ]
    }
   ],
   "source": [
    "y_16 = np.mean(np.array(al_idw_2016))\n",
    "print(y_16, len(al_idw_2016))\n",
    "y_17 = np.mean(np.array(al_idw_2017))\n",
    "print(y_17, len(al_idw_2017))\n",
    "y_18 = np.mean(np.array(al_idw_2018))\n",
    "print(y_18, len(al_idw_2018))"
   ]
  },
  {
   "cell_type": "code",
   "execution_count": 10,
   "metadata": {},
   "outputs": [
    {
     "name": "stdout",
     "output_type": "stream",
     "text": [
      "2016 0.2603260764881038 0.26168210302034994\n",
      "2017 0.2309516912905029 0.23203194264204346\n",
      "2018 0.20633292339746903 0.20704141258329878\n"
     ]
    }
   ],
   "source": [
    "boot = bootstrap(np.array(al_idw_2016))\n",
    "c = boot(.95)\n",
    "print(2016, c[0], c[1])\n",
    "\n",
    "boot = bootstrap(np.array(al_idw_2017))\n",
    "c = boot(.95)\n",
    "print(2017, c[0], c[1])\n",
    "\n",
    "boot = bootstrap(np.array(al_idw_2018))\n",
    "c = boot(.95)\n",
    "print(2018, c[0], c[1])"
   ]
  },
  {
   "cell_type": "code",
   "execution_count": null,
   "metadata": {},
   "outputs": [],
   "source": []
  }
 ],
 "metadata": {
  "kernelspec": {
   "display_name": "Python 3",
   "language": "python",
   "name": "python3"
  },
  "language_info": {
   "codemirror_mode": {
    "name": "ipython",
    "version": 3
   },
   "file_extension": ".py",
   "mimetype": "text/x-python",
   "name": "python",
   "nbconvert_exporter": "python",
   "pygments_lexer": "ipython3",
   "version": "3.7.4"
  }
 },
 "nbformat": 4,
 "nbformat_minor": 2
}

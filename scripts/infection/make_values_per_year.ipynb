{
 "cells": [
  {
   "cell_type": "code",
   "execution_count": 1,
   "metadata": {},
   "outputs": [],
   "source": [
    "import pickle"
   ]
  },
  {
   "cell_type": "code",
   "execution_count": 2,
   "metadata": {},
   "outputs": [
    {
     "name": "stdout",
     "output_type": "stream",
     "text": [
      "light Alt-lite_IDW 2016\n",
      "light Alt-lite_IDW 2017\n",
      "light Alt-lite_IDW 2018\n",
      "light Alt-lite 2016\n",
      "light Alt-lite 2017\n",
      "light Alt-lite 2018\n",
      "light IDW 2016\n",
      "light IDW 2017\n",
      "light IDW 2018\n",
      "light control 2016\n",
      "light control 2017\n",
      "light control 2018\n",
      "mild Alt-lite_IDW 2016\n",
      "mild Alt-lite_IDW 2017\n",
      "mild Alt-lite_IDW 2018\n",
      "mild Alt-lite 2016\n",
      "mild Alt-lite 2017\n",
      "mild Alt-lite 2018\n",
      "mild IDW 2016\n",
      "mild IDW 2017\n",
      "mild IDW 2018\n",
      "mild control 2016\n",
      "mild control 2017\n",
      "mild control 2018\n",
      "severe Alt-lite_IDW 2016\n",
      "severe Alt-lite_IDW 2017\n",
      "severe Alt-lite_IDW 2018\n",
      "severe Alt-lite 2016\n",
      "severe Alt-lite 2017\n",
      "severe Alt-lite 2018\n",
      "severe IDW 2016\n",
      "severe IDW 2017\n",
      "severe IDW 2018\n",
      "severe control 2016\n",
      "severe control 2017\n",
      "severe control 2018\n"
     ]
    }
   ],
   "source": [
    "bins_t_s = [\"2016\", \"2017\", \"2018\"]\n",
    "\n",
    "bins_y_s = [\n",
    "    (1462017600000, 1493553600000),  # Apr 30,16 - Apr 30,17\n",
    "    (1493553600000, 1525089600000),  # Apr 30,17 - Apr 30,18\n",
    "    (1525089600000, 1556625600000)  # Apr 30,18 - Apr 30,19\n",
    "]\n",
    "\n",
    "for cat in [\"light\", \"mild\", \"severe\"]:\n",
    "    for name in [\"Alt-lite_IDW\", \"Alt-lite\", \"IDW\", \"control\"]:\n",
    "        for start in bins_t_s:\n",
    "            with open(f\"./{cat}_{name}_{start}.pickle\", \"rb\") as fp:\n",
    "                a = pickle.load(fp)\n",
    "            print(cat, name, start)\n",
    "            t_m = []\n",
    "            t_16 = []\n",
    "            t_17 = []\n",
    "            t_18 = []\n",
    "\n",
    "\n",
    "            for par in a:\n",
    "                if par[0] < bins_y_s[0][0] and start <= \"2016\":\n",
    "                    t_m.append(par[1])\n",
    "                elif par[0] < bins_y_s[0][1] and start <= \"2017\":\n",
    "                    t_16.append(par[1])\n",
    "                elif par[0] < bins_y_s[1][1]:\n",
    "                    t_17.append(par[1])\n",
    "                elif par[0] < bins_y_s[2][1]:\n",
    "                    t_18.append(par[1])\n",
    "\n",
    "            if start <= \"2016\":\n",
    "                with open(f\"./values_per_year/{cat}_{name}_{start}_2015.pickle\", \"wb\") as fp:\n",
    "                    pickle.dump(t_m, fp)\n",
    "            if start <= \"2017\":\n",
    "                with open(f\"./values_per_year/{cat}_{name}_{start}_2016.pickle\", \"wb\") as fp:\n",
    "                    pickle.dump(t_16, fp)\n",
    "            with open(f\"./values_per_year/{cat}_{name}_{start}_2017.pickle\", \"wb\") as fp:\n",
    "                pickle.dump(t_17, fp)\n",
    "            with open(f\"./values_per_year/{cat}_{name}_{start}_2018.pickle\", \"wb\") as fp:\n",
    "                pickle.dump(t_18, fp)"
   ]
  },
  {
   "cell_type": "code",
   "execution_count": null,
   "metadata": {},
   "outputs": [],
   "source": []
  }
 ],
 "metadata": {
  "kernelspec": {
   "display_name": "Python 3",
   "language": "python",
   "name": "python3"
  },
  "language_info": {
   "codemirror_mode": {
    "name": "ipython",
    "version": 3
   },
   "file_extension": ".py",
   "mimetype": "text/x-python",
   "name": "python",
   "nbconvert_exporter": "python",
   "pygments_lexer": "ipython3",
   "version": "3.7.4"
  }
 },
 "nbformat": 4,
 "nbformat_minor": 2
}

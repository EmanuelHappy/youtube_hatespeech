{
 "cells": [
  {
   "cell_type": "code",
   "execution_count": 16,
   "metadata": {},
   "outputs": [],
   "source": [
    "from sqlitedict import SqliteDict\n",
    "import pickle\n",
    "from datetime import datetime\n",
    "t10 = []\n",
    "tall = []\n",
    "c = 0\n",
    "c_t10 = 0\n",
    "c_tall = 0\n",
    "mydict = SqliteDict(\"/../../../../../scratch/manoelribeiro/helpers/authors_dict.sqlite\", tablename=\"authors\", flag=\"r\")"
   ]
  },
  {
   "cell_type": "code",
   "execution_count": 2,
   "metadata": {},
   "outputs": [
    {
     "name": "stdout",
     "output_type": "stream",
     "text": [
      "right 0\n",
      "right-center 460235\n",
      "left-center 887328\n"
     ]
    }
   ],
   "source": [
    "diff_comm2 = set()\n",
    "for _, value in mydict.iteritems():        \n",
    "    diff_comm = set()\n",
    "    for comm in value:\n",
    "        cat = comm[\"category\"]\n",
    "        if cat not in diff_comm2:\n",
    "            print(cat, c)\n",
    "        diff_comm2.add(cat)\n",
    "        \n",
    "        if cat == \"Alt-right\" or cat == \"Alt-lite\" or cat == \"Intellectual Dark Web\":\n",
    "            diff_comm.add(cat)\n",
    "        else:\n",
    "            diff_comm.add(\"control\")\n",
    "    #print(len(diff_comm), len(diff_comm2))\n",
    "    if c>1000000:\n",
    "        break\n",
    "    c+=1"
   ]
  },
  {
   "cell_type": "code",
   "execution_count": null,
   "metadata": {},
   "outputs": [],
   "source": [
    "import pickle\n",
    "name = \"Alt-right\"\n",
    "num = 0\n",
    "with open(f\"./data/evolution_{name}_{num}.pickle\", \"rb\") as fp:\n",
    "    evolution_id = pickle.load(fp)\n",
    "print(name, \"comment:\", num, \"number of comments:\", len(evolution_id))\n",
    "\n",
    "values = []\n",
    "for ide in evolution_id:\n",
    "    values.append(ks[ide][1])"
   ]
  }
 ],
 "metadata": {
  "kernelspec": {
   "display_name": "Python 3",
   "language": "python",
   "name": "python3"
  },
  "language_info": {
   "codemirror_mode": {
    "name": "ipython",
    "version": 3
   },
   "file_extension": ".py",
   "mimetype": "text/x-python",
   "name": "python",
   "nbconvert_exporter": "python",
   "pygments_lexer": "ipython3",
   "version": "3.7.4"
  }
 },
 "nbformat": 4,
 "nbformat_minor": 2
}

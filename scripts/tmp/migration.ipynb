{
 "cells": [
  {
   "cell_type": "code",
   "execution_count": 1,
   "metadata": {},
   "outputs": [],
   "source": [
    "from sqlitedict import SqliteDict"
   ]
  },
  {
   "cell_type": "code",
   "execution_count": 2,
   "metadata": {},
   "outputs": [],
   "source": [
    "value_dict = SqliteDict(\"../../data/sqlite/community_texts/Alt-right.sqlite\", tablename=\"value\", flag=\"r\")"
   ]
  },
  {
   "cell_type": "code",
   "execution_count": 3,
   "metadata": {},
   "outputs": [
    {
     "name": "stdout",
     "output_type": "stream",
     "text": [
      "{'likes': 1, 'text': 'Greetings from Scotland brothers14w', 'is_reply': False, 'timestamp': 1555216476970, 'channel_id': 'UCsdPzJBJYQlsKigw_3XTqJw', 'category': 'Alt-right'}\n",
      "{'likes': 1, 'text': 'Great points are maid in here real stuf', 'is_reply': False, 'timestamp': 1554611676977, 'channel_id': 'UCsdPzJBJYQlsKigw_3XTqJw', 'category': 'Alt-right'}\n",
      "{'likes': 0, 'text': \"Hey your boy Jovi Val you know the guy you defended is really bringing your American Defense League name down. He's talking about you guys being at his bash the fash in the Poconos on 4/20. I mean that's your boy, right? You chose him over other people because Joey vows your boy and he's tight with you. So just want to let you know what your boy is doing to help Sully your name\\n\\nhttps://youtu.be/oEyEzLjo0yw\", 'is_reply': False, 'timestamp': 1554006876981, 'channel_id': 'UCsdPzJBJYQlsKigw_3XTqJw', 'category': 'Alt-right'}\n"
     ]
    }
   ],
   "source": [
    "c=0\n",
    "for _, value in value_dict.items():\n",
    "    print(value)\n",
    "    c+=1\n",
    "    if(c==3): break"
   ]
  },
  {
   "cell_type": "code",
   "execution_count": 2,
   "metadata": {},
   "outputs": [],
   "source": [
    "author_dict = SqliteDict(\"/../../../../../scratch/manoelribeiro/helpers/authors_dict.sqlite\", tablename=\"authors\", flag=\"r\")"
   ]
  },
  {
   "cell_type": "code",
   "execution_count": 3,
   "metadata": {},
   "outputs": [
    {
     "name": "stdout",
     "output_type": "stream",
     "text": [
      "[{'timestamp': 1526910435720, 'channel_id': 'UCGDaOZg2INC0Qg2Z203F1dA', 'category': 'right', 'id': 'Ugz7m1xY_6KLMKlnIPF4AaABAg'}]\n",
      "[{'timestamp': 1526910435729, 'channel_id': 'UCGDaOZg2INC0Qg2Z203F1dA', 'category': 'right', 'id': 'UgyHMiKc-Pj19O2ZIax4AaABAg'}]\n",
      "[{'timestamp': 1526910572065, 'channel_id': 'UCGDaOZg2INC0Qg2Z203F1dA', 'category': 'right', 'id': 'UgxY42gfj2FZ5TqKaVJ4AaABAg'}]\n",
      "[{'timestamp': 1526910575364, 'channel_id': 'UCGDaOZg2INC0Qg2Z203F1dA', 'category': 'right', 'id': 'UgyohKGVJBYL9mkzBoB4AaABAg'}]\n"
     ]
    },
    {
     "name": "stderr",
     "output_type": "stream",
     "text": [
      "Exception in thread Thread-4:\n",
      "Traceback (most recent call last):\n",
      "  File \"/home/grad/ccomp/19/emanuelsilva/miniconda3/envs/myenv/lib/python3.7/threading.py\", line 926, in _bootstrap_inner\n",
      "    self.run()\n",
      "  File \"/home/grad/ccomp/19/emanuelsilva/miniconda3/envs/myenv/lib/python3.7/site-packages/sqlitedict.py\", line 438, in run\n",
      "    for rec in cursor:\n",
      "sqlite3.DatabaseError: database disk image is malformed\n",
      "\n"
     ]
    }
   ],
   "source": [
    "c = 0\n",
    "for _, value in author_dict.items():\n",
    "    print(value)\n",
    "    if c == 3:\n",
    "        break\n",
    "    c+=1"
   ]
  },
  {
   "cell_type": "code",
   "execution_count": 6,
   "metadata": {},
   "outputs": [],
   "source": [
    "bins_t_s = [\"2016\", \"2017\", \"2018\"]\n",
    "\n",
    "bins_y_s = [\n",
    "    (1462017600000, 1493553600000),  # Apr 30,16 - Apr 30,17\n",
    "    (1493553600000, 1525089600000),  # Apr 30,17 - Apr 30,18\n",
    "    (1525089600000, 1556625600000)  # Apr 30,18 - Apr 30,19\n",
    "]\n",
    "communities = [\"Alt-lite_IDW\", \"Alt-lite\", \"IDW\", \"control\"]"
   ]
  },
  {
   "cell_type": "code",
   "execution_count": null,
   "metadata": {},
   "outputs": [],
   "source": [
    "def verify():\n",
    "    "
   ]
  },
  {
   "cell_type": "code",
   "execution_count": 5,
   "metadata": {},
   "outputs": [
    {
     "ename": "KeyError",
     "evalue": "'category'",
     "output_type": "error",
     "traceback": [
      "\u001b[0;31m---------------------------------------------------------------------------\u001b[0m",
      "\u001b[0;31mKeyError\u001b[0m                                  Traceback (most recent call last)",
      "\u001b[0;32m<ipython-input-5-f5d8bcb1ad2f>\u001b[0m in \u001b[0;36m<module>\u001b[0;34m\u001b[0m\n\u001b[1;32m      3\u001b[0m     \u001b[0mt\u001b[0m \u001b[0;34m=\u001b[0m \u001b[0;34m[\u001b[0m\u001b[0;34m]\u001b[0m\u001b[0;34m\u001b[0m\u001b[0;34m\u001b[0m\u001b[0m\n\u001b[1;32m      4\u001b[0m     \u001b[0;32mfor\u001b[0m \u001b[0md\u001b[0m \u001b[0;32min\u001b[0m \u001b[0mvalue\u001b[0m\u001b[0;34m:\u001b[0m\u001b[0;34m\u001b[0m\u001b[0;34m\u001b[0m\u001b[0m\n\u001b[0;32m----> 5\u001b[0;31m         \u001b[0mt\u001b[0m\u001b[0;34m.\u001b[0m\u001b[0mappend\u001b[0m\u001b[0;34m(\u001b[0m\u001b[0md\u001b[0m\u001b[0;34m[\u001b[0m\u001b[0;34m\"category\"\u001b[0m\u001b[0;34m]\u001b[0m\u001b[0;34m)\u001b[0m\u001b[0;34m\u001b[0m\u001b[0;34m\u001b[0m\u001b[0m\n\u001b[0m\u001b[1;32m      6\u001b[0m     \u001b[0mt\u001b[0m \u001b[0;34m=\u001b[0m \u001b[0mset\u001b[0m\u001b[0;34m(\u001b[0m\u001b[0mt\u001b[0m\u001b[0;34m)\u001b[0m\u001b[0;34m\u001b[0m\u001b[0;34m\u001b[0m\u001b[0m\n\u001b[1;32m      7\u001b[0m     \u001b[0;32mif\u001b[0m\u001b[0;34m(\u001b[0m\u001b[0;34m\"Alt-right\"\u001b[0m \u001b[0;32min\u001b[0m \u001b[0mt\u001b[0m\u001b[0;34m)\u001b[0m\u001b[0;34m:\u001b[0m\u001b[0;34m\u001b[0m\u001b[0;34m\u001b[0m\u001b[0m\n",
      "\u001b[0;31mKeyError\u001b[0m: 'category'"
     ]
    }
   ],
   "source": [
    "c=0\n",
    "light = {}\n",
    "mild = {}\n",
    "severe = {}\n",
    "for community in communities:\n",
    "    light[community] = {}\n",
    "    mild[community] = {}\n",
    "    severe[community] = {}\n",
    "    for year in bins_t_s:\n",
    "        light[community][year] = []\n",
    "        mild[community][year] = []\n",
    "        severe[community][year] = []\n",
    "        \n",
    "for key, value in author_dict.items():\n",
    "    d = {\"Alt-right\":[], \"Alt-lite\":[],\"IDW\":[],\"control\":[]}\n",
    "    s_not, s_16 = s_17 = s_18 = False\n",
    "    \n",
    "    for comm in value:\n",
    "        cat = comm[\"category\"]\n",
    "        if cat==\"Alt-right\" or cat==\"Alt-lite\" or cat==\"IDW\":\n",
    "            d[cat].append((comm[\"timestamp\"], comm[\"id\"]))\n",
    "        else:\n",
    "            d[\"control\"].append((comm[\"timestamp\"], comm[\"id\"]))\n",
    "            \n",
    "    if(len(d[\"Alt-right\"])==0:\n",
    "        continue\n",
    "    else:\n",
    "        for t in d[\"Alt-right\"]:\n",
    "            if t[0]< bins_y_s[0][0]:\n",
    "               s_not = True\n",
    "               break;\n",
    "           elif t[0] <= bins_y_s[0][1]:\n",
    "               s_16 = True\n",
    "           elif t[0] <= bins_y_s[1][1]:\n",
    "               s_17 = True\n",
    "           else:\n",
    "               s_18 = True\n",
    "       \n",
    "       if s_not:\n",
    "           continue\n",
    "       \n",
    "       if(s_16):\n",
    "           if len(d[\"Alt-right\"]) <= 2:  # light\n",
    "               if len(d[\"Alt-lite\"]) > 0 and len(d[\"IDW\"]) > 0:\n",
    "                   light[\"Alt-lite_IDW\"][].append(d.values())\n",
    "               elif len(d[\"Alt-lite\"]) > 0:\n",
    "                   light[\"Alt-lite\"].append(d.values())\n",
    "               elif len(d[\"IDW\"]) > 0:\n",
    "                   light_idw.append(d.values())\n",
    "               elif control > 0:\n",
    "                   light_control.append(d.values())\n",
    "\n",
    "            elif len(d[\"Alt-right\"]) <= 5:  # mild\n",
    "               if len(d[\"Alt-lite\"]) > 0 and len(d[\"IDW\"]) > 0:\n",
    "                   light_al_idw.append(t[1])\n",
    "               elif len(d[\"Alt-lite\"]) > 0:\n",
    "                   light_alt_lite.append(t[1])\n",
    "               elif len(d[\"IDW\"]) > 0:\n",
    "                   light_idw.append(t[1])\n",
    "               elif control > 0:\n",
    "                   light_control.append(t[1])\n",
    "\n",
    "            else:  # severe\n",
    "               if len(d[\"Alt-lite\"]) > 0 and len(d[\"IDW\"]) > 0:\n",
    "                   light_al_idw.append(t[1])\n",
    "               elif len(d[\"Alt-lite\"]) > 0:\n",
    "                   light_alt_lite.append(t[1])\n",
    "               elif len(d[\"IDW\"]) > 0:\n",
    "                   light_idw.append(t[1])\n",
    "               elif control > 0:\n",
    "                   light_control.append(t[1])\n",
    "\n",
    "       \n",
    "    c+=1\n",
    "    if(c==1000000): break"
   ]
  },
  {
   "cell_type": "code",
   "execution_count": null,
   "metadata": {},
   "outputs": [],
   "source": []
  }
 ],
 "metadata": {
  "kernelspec": {
   "display_name": "Python 3",
   "language": "python",
   "name": "python3"
  },
  "language_info": {
   "codemirror_mode": {
    "name": "ipython",
    "version": 3
   },
   "file_extension": ".py",
   "mimetype": "text/x-python",
   "name": "python",
   "nbconvert_exporter": "python",
   "pygments_lexer": "ipython3",
   "version": "3.7.4"
  }
 },
 "nbformat": 4,
 "nbformat_minor": 2
}

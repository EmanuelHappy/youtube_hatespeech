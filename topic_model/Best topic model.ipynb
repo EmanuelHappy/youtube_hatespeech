{
 "cells": [
  {
   "cell_type": "markdown",
   "metadata": {},
   "source": [
    "# Comparing Topic Models"
   ]
  },
  {
   "cell_type": "markdown",
   "metadata": {},
   "source": [
    "* Use Mallet LDA latter\n",
    "* https://www.machinelearningplus.com/nlp/topic-modeling-gensim-python/\n",
    "* https://radimrehurek.com/gensim/models/wrappers/ldamallet.html"
   ]
  },
  {
   "cell_type": "code",
   "execution_count": 26,
   "metadata": {},
   "outputs": [],
   "source": [
    "import pickle\n",
    "from gensim.models import CoherenceModel, HdpModel, LdaModel, LsiModel\n",
    "from gensim.corpora import Dictionary, MmCorpus\n",
    "import pyLDAvis.gensim\n",
    "import warnings\n",
    "warnings.filterwarnings('ignore')"
   ]
  },
  {
   "cell_type": "code",
   "execution_count": 2,
   "metadata": {},
   "outputs": [],
   "source": [
    "hdpmodel = HdpModel.load('./data/MR_hdp_model_spacy_2014.gensim')\n",
    "dictionary = Dictionary.load('./data/MR_hdp_dictionary_2014.dict')\n",
    "corpus = MmCorpus('./data/MR_hdp_corpus_2014.mm')"
   ]
  },
  {
   "cell_type": "code",
   "execution_count": 16,
   "metadata": {},
   "outputs": [],
   "source": [
    "with open(\"./data/MR_sentences_2014.txt\", \"rb\") as fp:   # Unpickling\n",
    "    texts = pickle.load(fp)"
   ]
  },
  {
   "cell_type": "markdown",
   "metadata": {},
   "source": [
    "## Comparing Words of each Topic"
   ]
  },
  {
   "cell_type": "code",
   "execution_count": 24,
   "metadata": {},
   "outputs": [
    {
     "data": {
      "text/plain": [
       "[(0,\n",
       "  \"0.019*man + 0.018*woman + 0.011*people + 0.011*think + 0.008*like + 0.007*feminist + 0.006*thing + 0.005*say + 0.005*want + 0.005*way + 0.005*know + 0.004*rape + 0.004*' + 0.004*issue + 0.004*gender + 0.004*right + 0.004*feminism + 0.004*mean + 0.004*good + 0.004*go\"),\n",
       " (1,\n",
       "  \"0.017*man + 0.016*woman + 0.011*people + 0.011*think + 0.009*like + 0.008*feminist + 0.006*thing + 0.005*say + 0.005*way + 0.005*feminism + 0.005*want + 0.005*' + 0.004*know + 0.004*issue + 0.004*mean + 0.004*gender + 0.004*point + 0.004*good + 0.004*rape + 0.003*go\"),\n",
       " (2,\n",
       "  \"0.014*man + 0.013*woman + 0.012*think + 0.011*people + 0.009*like + 0.008*feminist + 0.006*thing + 0.006*say + 0.005*comment + 0.005*know + 0.005*want + 0.005*way + 0.004*' + 0.004*feminism + 0.004*mean + 0.004*issue + 0.004*point + 0.004*good + 0.004*go + 0.003*post\"),\n",
       " (3,\n",
       "  \"0.012*woman + 0.012*man + 0.011*think + 0.010*people + 0.008*like + 0.007*feminist + 0.006*say + 0.005*thing + 0.005*know + 0.004*mean + 0.004*comment + 0.004*way + 0.004*want + 0.004*point + 0.004*' + 0.003*good + 0.003*issue + 0.003*feminism + 0.003*go + 0.003*right\"),\n",
       " (4,\n",
       "  \"0.012*woman + 0.011*man + 0.011*think + 0.010*people + 0.008*like + 0.006*feminist + 0.006*say + 0.005*thing + 0.005*know + 0.004*mean + 0.004*way + 0.004*want + 0.004*point + 0.004*good + 0.003*' + 0.003*go + 0.003*rape + 0.003*issue + 0.003*feminism + 0.003*comment\"),\n",
       " (5,\n",
       "  '0.010*man + 0.009*woman + 0.009*think + 0.009*people + 0.007*r_femradebate + 0.007*like + 0.006*feminist + 0.006*user_tier + 0.006*comment_delete + 0.006*comment + 0.006*ban_systerm + 0.006*text_rule + 0.006*violate_find + 0.005*say + 0.004*thing + 0.004*know + 0.004*http_www + 0.004*mean + 0.003*want + 0.003*point'),\n",
       " (6,\n",
       "  \"0.008*think + 0.008*man + 0.008*woman + 0.007*people + 0.006*like + 0.005*feminist + 0.004*say + 0.004*thing + 0.004*know + 0.004*point + 0.003*mean + 0.003*want + 0.003*' + 0.003*way + 0.003*ampvar_f + 0.003*good + 0.003*comment + 0.002*right + 0.002*post + 0.002*go\"),\n",
       " (7,\n",
       "  \"0.007*man + 0.007*woman + 0.007*think + 0.006*people + 0.004*feminist + 0.004*like + 0.004*say + 0.003*thing + 0.003*know + 0.003*mean + 0.003*point + 0.003*want + 0.002*way + 0.002*' + 0.002*good + 0.002*comment + 0.002*post + 0.002*right + 0.002*rape + 0.002*go\"),\n",
       " (8,\n",
       "  \"0.006*think + 0.006*woman + 0.006*man + 0.005*people + 0.004*like + 0.003*say + 0.003*feminist + 0.003*comment + 0.003*thing + 0.003*know + 0.002*point + 0.002*mean + 0.002*good + 0.002*want + 0.002*way + 0.002*right + 0.002*post + 0.002*' + 0.002*go + 0.002*actually\"),\n",
       " (9,\n",
       "  \"0.007*man + 0.006*woman + 0.005*think + 0.005*people + 0.004*feminist + 0.004*like + 0.003*say + 0.003*thing + 0.002*know + 0.002*mean + 0.002*point + 0.002*want + 0.002*good + 0.002*way + 0.002*right + 0.002*feminism + 0.002*post + 0.002*' + 0.002*go + 0.001*issue\")]"
      ]
     },
     "execution_count": 24,
     "metadata": {},
     "output_type": "execute_result"
    }
   ],
   "source": [
    "hdpmodel.show_topics()[:10]"
   ]
  },
  {
   "cell_type": "code",
   "execution_count": 11,
   "metadata": {},
   "outputs": [],
   "source": [
    "lda_hdpmodel = hdpmodel.suggested_lda_model()"
   ]
  },
  {
   "cell_type": "code",
   "execution_count": 25,
   "metadata": {},
   "outputs": [
    {
     "data": {
      "text/plain": [
       "[(149,\n",
       "  '0.000*\"availability\" + 0.000*\"sq\" + 0.000*\"vfw\" + 0.000*\"reliable\" + 0.000*\"bauer\" + 0.000*\"effectiveattraction\" + 0.000*\"propositional\" + 0.000*\"darken\" + 0.000*\"thehat\" + 0.000*\"cannon\"'),\n",
       " (147,\n",
       "  '0.000*\"xnazv\" + 0.000*\"bay\" + 0.000*\"drunkard\" + 0.000*\"discouraged\" + 0.000*\"hyperpuritanism\" + 0.000*\"chirp\" + 0.000*\"immunisation\" + 0.000*\"xhh\" + 0.000*\"proportional\" + 0.000*\"nyong\\'o\"'),\n",
       " (148,\n",
       "  '0.000*\"conoisseur\" + 0.000*\"gilbert\" + 0.000*\"ant\" + 0.000*\"jfc\" + 0.000*\"downplay\" + 0.000*\"handyperson\" + 0.000*\"cjaxi\" + 0.000*\"kuwjnbjqr\" + 0.000*\"diarrhea\" + 0.000*\"rapeability\"'),\n",
       " (143,\n",
       "  '0.000*\"cozy\" + 0.000*\"philosophic\" + 0.000*\"limitation\" + 0.000*\"kepc\" + 0.000*\"venison\" + 0.000*\"ealry\" + 0.000*\"convince\" + 0.000*\"robillion\" + 0.000*\"wikipedian\" + 0.000*\"timidly\"'),\n",
       " (146,\n",
       "  '0.000*\"raymond\" + 0.000*\"sift\" + 0.000*\"vineyard\" + 0.000*\"srujh\" + 0.000*\"incursion\" + 0.000*\"artifician\" + 0.000*\"disprivileged\" + 0.000*\"broom\" + 0.000*\"eudaimondaimon\" + 0.000*\"agrarian\"'),\n",
       " (4,\n",
       "  '0.000*\"assistance\" + 0.000*\"oso\" + 0.000*\"lewc\" + 0.000*\"dspace\" + 0.000*\"openly\" + 0.000*\"reskinne\" + 0.000*\"skyfall\" + 0.000*\"bart\" + 0.000*\"thumbhead\" + 0.000*\"yesallpeople\"'),\n",
       " (3,\n",
       "  '0.000*\"busrbzxi\" + 0.000*\"disparitie\" + 0.000*\"uncounted\" + 0.000*\"effectuate\" + 0.000*\"evoked\" + 0.000*\"suddere\" + 0.000*\"tranny\" + 0.000*\"xb\" + 0.000*\"whitebox\" + 0.000*\"informoverload\"'),\n",
       " (2,\n",
       "  '0.000*\"homeless\" + 0.000*\"ckyn\" + 0.000*\"wallst\" + 0.000*\"macht\" + 0.000*\"respondent\" + 0.000*\"wai\" + 0.000*\"goldberg\" + 0.000*\"youtuber\" + 0.000*\"vonnegut\" + 0.000*\"medicalisation\"'),\n",
       " (1,\n",
       "  '0.000*\"cruel\" + 0.000*\"cflkl\" + 0.000*\"grrr\" + 0.000*\"hef\" + 0.000*\"solely\" + 0.000*\"ebchecke\" + 0.000*\"denegrate\" + 0.000*\"formalized\" + 0.000*\"numerical\" + 0.000*\"pedigree\"'),\n",
       " (0,\n",
       "  '0.000*\"diana\" + 0.000*\"upfront\" + 0.000*\"hatemode\" + 0.000*\"comic_reference\" + 0.000*\"contextualization\" + 0.000*\"underinvestigation\" + 0.000*\"aren_t\" + 0.000*\"dtsp\" + 0.000*\"minx\" + 0.000*\"thinkbynumber\"')]"
      ]
     },
     "execution_count": 25,
     "metadata": {},
     "output_type": "execute_result"
    }
   ],
   "source": [
    "lda_hdpmodel.show_topics()"
   ]
  },
  {
   "cell_type": "code",
   "execution_count": 10,
   "metadata": {},
   "outputs": [],
   "source": [
    "ldamodel = LdaModel(corpus=corpus, num_topics=10, id2word=dictionary)"
   ]
  },
  {
   "cell_type": "code",
   "execution_count": 12,
   "metadata": {},
   "outputs": [
    {
     "data": {
      "text/plain": [
       "[(0,\n",
       "  '0.065*\"man\" + 0.064*\"woman\" + 0.013*\"gender\" + 0.012*\"think\" + 0.009*\"people\" + 0.008*\"society\" + 0.007*\"male\" + 0.007*\"way\" + 0.007*\"thing\" + 0.006*\"issue\"'),\n",
       " (1,\n",
       "  '0.016*\"game\" + 0.014*\"male\" + 0.013*\"female\" + 0.012*\"sex\" + 0.011*\"sexual\" + 0.008*\"character\" + 0.008*\"gay\" + 0.008*\"play\" + 0.008*\"medium\" + 0.008*\"like\"'),\n",
       " (2,\n",
       "  '0.057*\"com\" + 0.053*\"http_femradebate\" + 0.029*\"http_www\" + 0.028*\"comment\" + 0.027*\"post\" + 0.017*\"article\" + 0.015*\"reddit_com\" + 0.011*\"r\" + 0.011*\"http\" + 0.010*\"link\"'),\n",
       " (3,\n",
       "  '0.028*\"study\" + 0.009*\"research\" + 0.008*\"number\" + 0.007*\"science\" + 0.007*\"pdf\" + 0.007*\"datum\" + 0.007*\"find\" + 0.007*\"circumcision\" + 0.006*\"http_www\" + 0.006*\"difference\"'),\n",
       " (4,\n",
       "  '0.060*\"rape\" + 0.019*\"consent\" + 0.019*\"victim\" + 0.012*\"case\" + 0.012*\"person\" + 0.011*\"sex\" + 0.010*\"crime\" + 0.010*\"rapist\" + 0.010*\"law\" + 0.007*\"say\"'),\n",
       " (5,\n",
       "  '0.036*\"comment\" + 0.032*\"user\" + 0.032*\"rule\" + 0.032*\"ban\" + 0.029*\"r_femradebate\" + 0.026*\"mod\" + 0.025*\"sub\" + 0.014*\"report\" + 0.013*\"user_tier\" + 0.012*\"ban_systerm\"'),\n",
       " (6,\n",
       "  '0.026*\"people\" + 0.023*\"think\" + 0.022*\"like\" + 0.015*\"thing\" + 0.013*\"know\" + 0.011*\"want\" + 0.010*\"go\" + 0.010*\"say\" + 0.009*\"feel\" + 0.009*\"\\'\"'),\n",
       " (7,\n",
       "  '0.029*\"child\" + 0.014*\"work\" + 0.013*\"parent\" + 0.012*\"pay\" + 0.012*\"right\" + 0.011*\"father\" + 0.011*\"want\" + 0.010*\"kid\" + 0.010*\"abortion\" + 0.009*\"mother\"'),\n",
       " (8,\n",
       "  '0.043*\"feminist\" + 0.025*\"feminism\" + 0.018*\"people\" + 0.015*\"mra\" + 0.014*\"think\" + 0.013*\"issue\" + 0.012*\"group\" + 0.010*\"movement\" + 0.010*\"like\" + 0.009*\"mrm\"'),\n",
       " (9,\n",
       "  '0.041*\"boy\" + 0.032*\"girl\" + 0.021*\"wiki\" + 0.017*\"http_en\" + 0.016*\"wikipedia_org\" + 0.012*\"moral\" + 0.007*\"value\" + 0.006*\"silly\" + 0.006*\"people\" + 0.006*\"life\"')]"
      ]
     },
     "execution_count": 12,
     "metadata": {},
     "output_type": "execute_result"
    }
   ],
   "source": [
    "ldamodel.show_topics()"
   ]
  },
  {
   "cell_type": "code",
   "execution_count": 27,
   "metadata": {},
   "outputs": [],
   "source": [
    "lsimodel = LsiModel(corpus=corpus, num_topics=10, id2word=dictionary)"
   ]
  },
  {
   "cell_type": "code",
   "execution_count": 28,
   "metadata": {},
   "outputs": [
    {
     "data": {
      "text/plain": [
       "[(0,\n",
       "  '0.488*\"man\" + 0.453*\"woman\" + 0.233*\"think\" + 0.226*\"people\" + 0.190*\"feminist\" + 0.173*\"like\" + 0.132*\"thing\" + 0.128*\"feminism\" + 0.106*\"gender\" + 0.106*\"issue\"'),\n",
       " (1,\n",
       "  '-0.434*\"man\" + -0.418*\"woman\" + 0.298*\"people\" + -0.296*\"http_femradebate\" + -0.253*\"com\" + 0.228*\"think\" + 0.205*\"feminist\" + 0.178*\"like\" + 0.129*\"thing\" + 0.120*\"feminism\"'),\n",
       " (2,\n",
       "  '0.637*\"http_femradebate\" + 0.536*\"com\" + -0.282*\"man\" + -0.231*\"woman\" + 0.229*\"people\" + 0.138*\"gender\" + 0.099*\"sex\" + 0.096*\"person\" + 0.073*\"post\" + 0.064*\"privilege\"'),\n",
       " (3,\n",
       "  '0.608*\"feminist\" + 0.432*\"feminism\" + -0.321*\"rape\" + 0.188*\"mra\" + -0.172*\"people\" + -0.144*\"woman\" + 0.130*\"movement\" + 0.124*\"mrm\" + 0.104*\"issue\" + -0.104*\"sex\"'),\n",
       " (4,\n",
       "  '0.780*\"rape\" + 0.242*\"man\" + -0.214*\"woman\" + 0.178*\"feminist\" + -0.164*\"like\" + 0.131*\"victim\" + 0.116*\"consent\" + -0.105*\"people\" + -0.101*\"think\" + 0.091*\"rapist\"'),\n",
       " (5,\n",
       "  '0.654*\"woman\" + -0.594*\"man\" + 0.268*\"feminist\" + 0.206*\"rape\" + 0.124*\"feminism\" + -0.099*\"think\" + -0.098*\"people\" + -0.070*\"mrm\" + 0.058*\"comment\" + 0.052*\"sex\"'),\n",
       " (6,\n",
       "  '0.646*\"\\'\" + -0.415*\"comment\" + -0.251*\"r_femradebate\" + 0.238*\"people\" + -0.174*\"http_www\" + -0.156*\"like\" + 0.137*\"feminism\" + -0.115*\"reddit_com\" + -0.115*\"post\" + -0.083*\"mra\"'),\n",
       " (7,\n",
       "  '-0.668*\"\\'\" + -0.387*\"comment\" + -0.258*\"http_www\" + -0.257*\"r_femradebate\" + 0.221*\"people\" + 0.191*\"think\" + -0.113*\"reddit_com\" + -0.111*\"patriarchy\" + 0.096*\"feminism\" + 0.091*\"woman\"'),\n",
       " (8,\n",
       "  '-0.502*\"people\" + -0.358*\"comment\" + 0.284*\"child\" + -0.250*\"r_femradebate\" + 0.147*\"time\" + 0.145*\"right\" + 0.132*\"want\" + 0.132*\"com\" + 0.122*\"work\" + -0.118*\"woman\"'),\n",
       " (9,\n",
       "  '0.416*\"child\" + -0.354*\"like\" + 0.223*\"right\" + 0.220*\"r_femradebate\" + 0.218*\"comment\" + 0.184*\"abortion\" + 0.146*\"father\" + 0.142*\"parent\" + 0.138*\"support\" + -0.124*\"game\"')]"
      ]
     },
     "execution_count": 28,
     "metadata": {},
     "output_type": "execute_result"
    }
   ],
   "source": [
    "lsimodel.show_topics()"
   ]
  },
  {
   "cell_type": "markdown",
   "metadata": {},
   "source": [
    "## Comparing coherence"
   ]
  },
  {
   "cell_type": "code",
   "execution_count": 30,
   "metadata": {},
   "outputs": [],
   "source": [
    "hdp = [[word for word, prob in topic] for topicid, topic in hdpmodel.show_topics(formatted=False)]\n",
    "lda_hdp = [[word for word, prob in topic] for topicid, topic in lda_hdpmodel.show_topics(formatted=False)]\n",
    "lda = [[word for word, prob in topic] for topicid, topic in ldamodel.show_topics(formatted=False)]\n",
    "lsi = [[word for word, prob in topic] for topicid, topic in lsimodel.show_topics(formatted=False)]"
   ]
  },
  {
   "cell_type": "code",
   "execution_count": 31,
   "metadata": {},
   "outputs": [],
   "source": [
    "hdp_coherence = CoherenceModel(topics=hdp[:10], texts=texts, dictionary=dictionary, window_size=10).get_coherence()\n",
    "lda_hdp_coherence = CoherenceModel(topics=lda_hdp[:10], texts=texts, dictionary=dictionary, window_size=10).get_coherence()\n",
    "lda_coherence = CoherenceModel(topics=lda[:10], texts=texts, dictionary=dictionary, window_size=10).get_coherence()\n",
    "lsi_coherence = CoherenceModel(topics=lsi[:10], texts=texts, dictionary=dictionary, window_size=10).get_coherence()\n"
   ]
  },
  {
   "cell_type": "code",
   "execution_count": 21,
   "metadata": {},
   "outputs": [],
   "source": [
    "import matplotlib.pyplot as plt\n",
    "import seaborn as sns"
   ]
  },
  {
   "cell_type": "code",
   "execution_count": 32,
   "metadata": {},
   "outputs": [
    {
     "data": {
      "text/plain": [
       "<matplotlib.axes._subplots.AxesSubplot at 0x7f555096bb38>"
      ]
     },
     "execution_count": 32,
     "metadata": {},
     "output_type": "execute_result"
    },
    {
     "data": {
      "image/png": "[encoded data removed]",
      "text/plain": [
       "<Figure size 432x288 with 1 Axes>"
      ]
     },
     "metadata": {
      "needs_background": "light"
     },
     "output_type": "display_data"
    }
   ],
   "source": [
    "y = [hdp_coherence, lda_hdp_coherence, lda_coherence, lsi_coherence]\n",
    "x = ['hdp', 'lda_hdp', 'lda', 'lsi']\n",
    "sns.barplot(x, y)"
   ]
  },
  {
   "cell_type": "markdown",
   "metadata": {},
   "source": [
    "## Comparing best # of topics"
   ]
  },
  {
   "cell_type": "code",
   "execution_count": 34,
   "metadata": {},
   "outputs": [],
   "source": [
    "x = []\n",
    "for i in range(5,20):\n",
    "    ldamodel = LdaModel(corpus=corpus, num_topics=i, id2word=dictionary)\n",
    "    lda = [[word for word, prob in topic] for topicid, topic in ldamodel.show_topics(formatted=False)]\n",
    "    lda_coherence = CoherenceModel(topics=lda[:10], texts=texts, dictionary=dictionary, window_size=10).get_coherence()\n",
    "    x.append(lda_coherence)"
   ]
  },
  {
   "cell_type": "code",
   "execution_count": 37,
   "metadata": {},
   "outputs": [
    {
     "data": {
      "text/plain": [
       "[<matplotlib.lines.Line2D at 0x7f5540d9d940>]"
      ]
     },
     "execution_count": 37,
     "metadata": {},
     "output_type": "execute_result"
    },
    {
     "data": {
      "image/png": "[encoded data removed]",
      "text/plain": [
       "<Figure size 432x288 with 1 Axes>"
      ]
     },
     "metadata": {
      "needs_background": "light"
     },
     "output_type": "display_data"
    }
   ],
   "source": [
    "y = [i for i in range(5, 20)]\n",
    "plt.plot(y, x)"
   ]
  },
  {
   "cell_type": "code",
   "execution_count": 38,
   "metadata": {},
   "outputs": [],
   "source": [
    "from gensim.models.ldamulticore import LdaMulticore"
   ]
  },
  {
   "cell_type": "code",
   "execution_count": 60,
   "metadata": {},
   "outputs": [],
   "source": [
    "x = []\n",
    "for i in range(10,15):\n",
    "    ldammult_model = LdaMulticore(corpus=corpus, num_topics=i, id2word=dictionary, workers=15)\n",
    "    ldamult = [[word for word, prob in topic] for topicid, topic in ldammult_model.show_topics(formatted=False)]\n",
    "    ldamult_coherence = CoherenceModel(topics=ldamult[:10], texts=texts, dictionary=dictionary, window_size=10).get_coherence()\n",
    "    x.append(ldamult_coherence)"
   ]
  },
  {
   "cell_type": "code",
   "execution_count": 62,
   "metadata": {},
   "outputs": [
    {
     "data": {
      "text/plain": [
       "[<matplotlib.lines.Line2D at 0x7f5550e18e80>]"
      ]
     },
     "execution_count": 62,
     "metadata": {},
     "output_type": "execute_result"
    },
    {
     "data": {
      "image/png": "[encoded data removed]",
      "text/plain": [
       "<Figure size 432x288 with 1 Axes>"
      ]
     },
     "metadata": {
      "needs_background": "light"
     },
     "output_type": "display_data"
    }
   ],
   "source": [
    "y = [i for i in range(10, 15)]\n",
    "plt.plot(y, x)"
   ]
  },
  {
   "cell_type": "markdown",
   "metadata": {},
   "source": [
    "## Comparing Speed"
   ]
  },
  {
   "cell_type": "code",
   "execution_count": 54,
   "metadata": {},
   "outputs": [
    {
     "name": "stdout",
     "output_type": "stream",
     "text": [
      "CPU times: user 3min 40s, sys: 8.48 s, total: 3min 49s\n",
      "Wall time: 1min 41s\n"
     ]
    }
   ],
   "source": [
    "%%time\n",
    "ldamodel = LdaModel(corpus=corpus, num_topics=10, id2word=dictionary)"
   ]
  },
  {
   "cell_type": "code",
   "execution_count": 43,
   "metadata": {},
   "outputs": [
    {
     "name": "stdout",
     "output_type": "stream",
     "text": [
      "CPU times: user 40.2 s, sys: 3.21 s, total: 43.4 s\n",
      "Wall time: 35.1 s\n"
     ]
    }
   ],
   "source": [
    "%%time\n",
    "ldamodel_multc = LdaMulticore(corpus=corpus, num_topics=15, id2word=dictionary, workers=16)"
   ]
  },
  {
   "cell_type": "code",
   "execution_count": 64,
   "metadata": {},
   "outputs": [
    {
     "data": {
      "text/plain": [
       "[(4,\n",
       "  '0.028*\"child\" + 0.014*\"right\" + 0.014*\"want\" + 0.012*\"parent\" + 0.011*\"kid\" + 0.010*\"father\" + 0.009*\"life\" + 0.009*\"abortion\" + 0.009*\"mother\" + 0.008*\"woman\"'),\n",
       " (8,\n",
       "  '0.033*\"think\" + 0.026*\"people\" + 0.016*\"thing\" + 0.014*\"work\" + 0.014*\"way\" + 0.014*\"like\" + 0.014*\"good\" + 0.008*\"problem\" + 0.008*\"mean\" + 0.007*\"change\"'),\n",
       " (13,\n",
       "  '0.091*\"video\" + 0.069*\"gay\" + 0.065*\"boy\" + 0.046*\"girl\" + 0.043*\"video_game\" + 0.037*\"porn\" + 0.022*\"straight\" + 0.020*\"wow\" + 0.016*\"dog\" + 0.013*\"cat\"'),\n",
       " (1,\n",
       "  '0.099*\"comment\" + 0.076*\"reddit_com\" + 0.064*\"r_femradebate\" + 0.040*\"http_www\" + 0.027*\"r\" + 0.016*\"b\" + 0.015*\"c\" + 0.012*\"user_tier\" + 0.010*\"ban_systerm\" + 0.010*\"text_rule\"'),\n",
       " (2,\n",
       "  '0.013*\"term\" + 0.013*\"patriarchy\" + 0.013*\"think\" + 0.012*\"word\" + 0.012*\"definition\" + 0.011*\"people\" + 0.011*\"mean\" + 0.010*\"group\" + 0.009*\"use\" + 0.009*\"thing\"'),\n",
       " (14,\n",
       "  '0.079*\"feminist\" + 0.047*\"feminism\" + 0.028*\"mra\" + 0.026*\"man\" + 0.019*\"movement\" + 0.018*\"issue\" + 0.017*\"mrm\" + 0.016*\"group\" + 0.011*\"right\" + 0.011*\"woman\"'),\n",
       " (7,\n",
       "  '0.013*\"man\" + 0.011*\"need\" + 0.010*\"help\" + 0.010*\"woman\" + 0.007*\"people\" + 0.007*\"victim\" + 0.007*\"number\" + 0.007*\"problem\" + 0.007*\"issue\" + 0.006*\"law\"'),\n",
       " (3,\n",
       "  '0.021*\"game\" + 0.020*\"time\" + 0.014*\"work\" + 0.013*\"day\" + 0.012*\"read\" + 0.011*\"good\" + 0.010*\"find\" + 0.010*\"thank\" + 0.010*\"go\" + 0.010*\"like\"'),\n",
       " (9,\n",
       "  '0.021*\"like\" + 0.017*\"woman\" + 0.014*\"think\" + 0.013*\"guy\" + 0.011*\"girl\" + 0.011*\"know\" + 0.010*\"man\" + 0.010*\"people\" + 0.009*\"friend\" + 0.008*\"feel\"'),\n",
       " (0,\n",
       "  '0.028*\"post\" + 0.025*\"people\" + 0.022*\"think\" + 0.014*\"like\" + 0.013*\"say\" + 0.013*\"comment\" + 0.012*\"point\" + 0.012*\"sub\" + 0.010*\"discussion\" + 0.010*\"want\"')]"
      ]
     },
     "execution_count": 64,
     "metadata": {},
     "output_type": "execute_result"
    }
   ],
   "source": [
    "ldamodel.show_topics()"
   ]
  },
  {
   "cell_type": "code",
   "execution_count": 66,
   "metadata": {},
   "outputs": [
    {
     "data": {
      "text/plain": [
       "0.4013195491586288"
      ]
     },
     "execution_count": 66,
     "metadata": {},
     "output_type": "execute_result"
    }
   ],
   "source": [
    "lda = [[word for word, prob in topic] for topicid, topic in ldamodel.show_topics(formatted=False)]\n",
    "lda_coherence = CoherenceModel(topics=lda[:10], texts=texts, dictionary=dictionary, window_size=10).get_coherence()\n",
    "lda_coherence"
   ]
  },
  {
   "cell_type": "code",
   "execution_count": 52,
   "metadata": {},
   "outputs": [],
   "source": [
    "lda_mc = [[word for word, prob in topic] for topicid, topic in ldamodel.show_topics(formatted=False)]\n",
    "lda_mc_coherence = CoherenceModel(topics=lda[:10], texts=texts, dictionary=dictionary, window_size=10).get_coherence()"
   ]
  },
  {
   "cell_type": "code",
   "execution_count": 53,
   "metadata": {},
   "outputs": [
    {
     "data": {
      "text/plain": [
       "0.3963308355663578"
      ]
     },
     "execution_count": 53,
     "metadata": {},
     "output_type": "execute_result"
    }
   ],
   "source": [
    "lda_mc_coherence"
   ]
  },
  {
   "cell_type": "code",
   "execution_count": 67,
   "metadata": {},
   "outputs": [],
   "source": [
    "p = pyLDAvis.gensim.prepare(ldamodel, corpus, dictionary)"
   ]
  },
  {
   "cell_type": "code",
   "execution_count": 69,
   "metadata": {},
   "outputs": [],
   "source": [
    "pyLDAvis.save_html(p, 'test_model.html')"
   ]
  },
  {
   "cell_type": "code",
   "execution_count": 70,
   "metadata": {},
   "outputs": [
    {
     "name": "stdout",
     "output_type": "stream",
     "text": [
      "Help on function prepare in module pyLDAvis.gensim:\n",
      "\n",
      "prepare(topic_model, corpus, dictionary, doc_topic_dist=None, **kwargs)\n",
      "    Transforms the Gensim TopicModel and related corpus and dictionary into\n",
      "    the data structures needed for the visualization.\n",
      "    \n",
      "    Parameters\n",
      "    ----------\n",
      "    topic_model : gensim.models.ldamodel.LdaModel\n",
      "        An already trained Gensim LdaModel. The other gensim model types are\n",
      "        not supported (PRs welcome).\n",
      "    \n",
      "    corpus : array-like list of bag of word docs in tuple form or scipy CSC matrix\n",
      "        The corpus in bag of word form, the same docs used to train the model.\n",
      "        The corpus is transformed into a csc matrix internally, if you intend to\n",
      "        call prepare multiple times it is a good idea to first call\n",
      "        `gensim.matutils.corpus2csc(corpus)` and pass in the csc matrix instead.\n",
      "    \n",
      "    For example: [(50, 3), (63, 5), ....]\n",
      "    \n",
      "    dictionary: gensim.corpora.Dictionary\n",
      "        The dictionary object used to create the corpus. Needed to extract the\n",
      "        actual terms (not ids).\n",
      "    \n",
      "    doc_topic_dist (optional): Document topic distribution from LDA (default=None)\n",
      "        The document topic distribution that is eventually visualised, if you will\n",
      "        be calling `prepare` multiple times it's a good idea to explicitly pass in\n",
      "        `doc_topic_dist` as inferring this for large corpora can be quite\n",
      "        expensive.\n",
      "    \n",
      "    **kwargs :\n",
      "        additional keyword arguments are passed through to :func:`pyldavis.prepare`.\n",
      "    \n",
      "    Returns\n",
      "    -------\n",
      "    prepared_data : PreparedData\n",
      "        the data structures used in the visualization\n",
      "    \n",
      "    Example\n",
      "    --------\n",
      "    For example usage please see this notebook:\n",
      "    http://nbviewer.ipython.org/github/bmabey/pyLDAvis/blob/master/notebooks/Gensim%20Newsgroup.ipynb\n",
      "    \n",
      "    See\n",
      "    ------\n",
      "    See `pyLDAvis.prepare` for **kwargs.\n",
      "\n"
     ]
    }
   ],
   "source": [
    "help(pyLDAvis.gensim.prepare)"
   ]
  },
  {
   "cell_type": "markdown",
   "metadata": {},
   "source": [
    "## Dynamic Topic Modeling"
   ]
  },
  {
   "cell_type": "code",
   "execution_count": 71,
   "metadata": {},
   "outputs": [],
   "source": [
    "from gensim.models.wrappers.dtmmodel import DtmModel"
   ]
  },
  {
   "cell_type": "code",
   "execution_count": 74,
   "metadata": {},
   "outputs": [],
   "source": [
    "MR_corpus = MmCorpus('./data/MR_hdp_corpus.mm')"
   ]
  },
  {
   "cell_type": "code",
   "execution_count": 76,
   "metadata": {},
   "outputs": [],
   "source": [
    "MR_dict =  Dictionary.load('./data/MR_hdp_dictionary.dict')"
   ]
  },
  {
   "cell_type": "code",
   "execution_count": 72,
   "metadata": {},
   "outputs": [],
   "source": [
    "dtm_path = \"./data/dtm/dtm-linux64\""
   ]
  },
  {
   "cell_type": "code",
   "execution_count": 84,
   "metadata": {},
   "outputs": [],
   "source": [
    "years = [2014, 2015, 2016, 2017, 2018]\n",
    "time_seq = []\n",
    "for year in years:\n",
    "    c = MmCorpus(f'./data/MR_hdp_corpus_{year}.mm')\n",
    "    time_seq.append(len(c))"
   ]
  },
  {
   "cell_type": "code",
   "execution_count": 86,
   "metadata": {},
   "outputs": [],
   "source": [
    "time_seq.append(len(MR_corpus) - sum(time_seq))"
   ]
  },
  {
   "cell_type": "code",
   "execution_count": 87,
   "metadata": {},
   "outputs": [
    {
     "data": {
      "text/plain": [
       "[71955, 50918, 46675, 30821, 32740, 8924]"
      ]
     },
     "execution_count": 87,
     "metadata": {},
     "output_type": "execute_result"
    }
   ],
   "source": [
    "time_seq"
   ]
  },
  {
   "cell_type": "code",
   "execution_count": 93,
   "metadata": {},
   "outputs": [],
   "source": [
    "model = DtmModel(dtm_path, MR_corpus, time_seq, num_topics=10,\n",
    "                 id2word=MR_dict, initialize_lda=True)"
   ]
  },
  {
   "cell_type": "code",
   "execution_count": 94,
   "metadata": {},
   "outputs": [],
   "source": [
    "model.save(\"./lda/MR_dtm.gensim\")"
   ]
  },
  {
   "cell_type": "code",
   "execution_count": 89,
   "metadata": {},
   "outputs": [],
   "source": [
    "RP_corpus = MmCorpus('./data/RP_hdp_corpus.mm')\n",
    "RP_dict =  Dictionary.load('./data/RP_hdp_dictionary.dict')\n",
    "RP_time_seq = []\n",
    "for year in years:\n",
    "    c = MmCorpus(f'./data/RP_hdp_corpus_{year}.mm')\n",
    "    RP_time_seq.append(len(c))\n",
    "RP_time_seq.append(len(RP_corpus) - sum(RP_time_seq))"
   ]
  },
  {
   "cell_type": "code",
   "execution_count": 91,
   "metadata": {},
   "outputs": [
    {
     "data": {
      "text/plain": [
       "[593346, 429483, 391341, 365350, 321567, 38619]"
      ]
     },
     "execution_count": 91,
     "metadata": {},
     "output_type": "execute_result"
    }
   ],
   "source": [
    "RP_time_seq"
   ]
  },
  {
   "cell_type": "code",
   "execution_count": null,
   "metadata": {},
   "outputs": [],
   "source": [
    "RP_model = DtmModel(dtm_path, RP_corpus, RP_time_seq, num_topics=10,\n",
    "                 id2word=RP_dict, initialize_lda=True)"
   ]
  },
  {
   "cell_type": "code",
   "execution_count": null,
   "metadata": {},
   "outputs": [],
   "source": [
    "RP_model.save(\"./lda/RP_dtm.gensim\")"
   ]
  },
  {
   "cell_type": "code",
   "execution_count": 90,
   "metadata": {},
   "outputs": [],
   "source": [
    "MGTOW_corpus = MmCorpus('./data/MGTOW_hdp_corpus.mm')\n",
    "MGTOW_dict =  Dictionary.load('./data/MGTOW_hdp_dictionary.dict')\n",
    "MGTOW_time_seq = []\n",
    "for year in years:\n",
    "    c = MmCorpus(f'./data/MGTOW_hdp_corpus_{year}.mm')\n",
    "    MGTOW_time_seq.append(len(c))\n",
    "MGTOW_time_seq.append(len(MGTOW_corpus) - sum(MGTOW_time_seq))"
   ]
  },
  {
   "cell_type": "code",
   "execution_count": 92,
   "metadata": {},
   "outputs": [
    {
     "data": {
      "text/plain": [
       "[3167, 28320, 107383, 295802, 528241, 160932]"
      ]
     },
     "execution_count": 92,
     "metadata": {},
     "output_type": "execute_result"
    }
   ],
   "source": [
    "MGTOW_time_seq"
   ]
  },
  {
   "cell_type": "code",
   "execution_count": null,
   "metadata": {},
   "outputs": [],
   "source": [
    "MGTOW_model = DtmModel(dtm_path, MGTOW_corpus, MGTOW_time_seq, num_topics=10,\n",
    "                 id2word=MGTOW_dict, initialize_lda=True)"
   ]
  },
  {
   "cell_type": "code",
   "execution_count": null,
   "metadata": {},
   "outputs": [],
   "source": [
    "MGTOW_model.save(\"./lda/MGTOW_dtm.gensim\")"
   ]
  }
 ],
 "metadata": {
  "kernelspec": {
   "display_name": "Python 3",
   "language": "python",
   "name": "python3"
  },
  "language_info": {
   "codemirror_mode": {
    "name": "ipython",
    "version": 3
   },
   "file_extension": ".py",
   "mimetype": "text/x-python",
   "name": "python",
   "nbconvert_exporter": "python",
   "pygments_lexer": "ipython3",
   "version": "3.7.3"
  }
 },
 "nbformat": 4,
 "nbformat_minor": 2
}

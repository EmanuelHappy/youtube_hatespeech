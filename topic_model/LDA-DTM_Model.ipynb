{
 "cells": [
  {
   "cell_type": "code",
   "execution_count": 2,
   "metadata": {},
   "outputs": [],
   "source": [
    "import matplotlib.pyplot as plt\n",
    "import gensim\n",
    "import numpy as np\n",
    "import pandas as pd\n",
    "import spacy\n",
    "import pickle \n",
    "\n",
    "from gensim.models.wrappers.dtmmodel import DtmModel\n",
    "from gensim.models import CoherenceModel, LdaModel, LsiModel, HdpModel\n",
    "from gensim.models.wrappers import LdaMallet\n",
    "from gensim.corpora import Dictionary, MmCorpus\n",
    "import pyLDAvis.gensim\n",
    "\n",
    "import os, re, operator, warnings\n",
    "warnings.filterwarnings('ignore') \n",
    "%matplotlib inline"
   ]
  },
  {
   "cell_type": "markdown",
   "metadata": {},
   "source": [
    "# LDA Communities topic models"
   ]
  },
  {
   "cell_type": "code",
   "execution_count": 3,
   "metadata": {},
   "outputs": [],
   "source": [
    "PUA_model = LdaModel.load('./lda/PUA_lda_model.gensim')"
   ]
  },
  {
   "cell_type": "code",
   "execution_count": 4,
   "metadata": {},
   "outputs": [
    {
     "data": {
      "text/plain": [
       "[(14,\n",
       "  '0.084*\"man\" + 0.045*\"woman\" + 0.031*\"love\" + 0.019*\"like\" + 0.014*\"tactic\" + 0.012*\"work\" + 0.009*\"video\" + 0.009*\"relationship\" + 0.008*\"want\" + 0.008*\"guy\"'),\n",
       " (13,\n",
       "  '0.023*\"book\" + 0.018*\"woman\" + 0.018*\"girl\" + 0.017*\"like\" + 0.016*\"tell\" + 0.015*\"man\" + 0.013*\"slow\" + 0.012*\"sound_like\" + 0.010*\"recommend\" + 0.010*\"enjoy\"'),\n",
       " (2,\n",
       "  '0.018*\"energy\" + 0.014*\"voice\" + 0.013*\"reminder\" + 0.013*\"find\" + 0.012*\"breakdown\" + 0.011*\"woman\" + 0.011*\"guy\" + 0.011*\"gold\" + 0.011*\"thank\" + 0.010*\"happy\"'),\n",
       " (4,\n",
       "  '0.044*\"girl\" + 0.020*\"like\" + 0.018*\"time\" + 0.016*\"want\" + 0.012*\"tell\" + 0.012*\"lol\" + 0.012*\"talk\" + 0.010*\"meet\" + 0.010*\"think\" + 0.009*\"woman\"'),\n",
       " (11,\n",
       "  '0.057*\"mindfulattraction_org\" + 0.057*\"coach_https\" + 0.057*\"coach_man\" + 0.057*\"dalexis_school\" + 0.057*\"course_dark\" + 0.057*\"patreon_patreon\" + 0.057*\"thinkific_com\" + 0.057*\"com_ma\" + 0.057*\"course_https\" + 0.057*\"free_access\"'),\n",
       " (0,\n",
       "  '0.033*\"man\" + 0.031*\"thank\" + 0.022*\"video\" + 0.017*\"approach\" + 0.016*\"good\" + 0.014*\"bro\" + 0.013*\"love\" + 0.013*\"great_video\" + 0.011*\"s\" + 0.011*\"need\"'),\n",
       " (7,\n",
       "  '0.024*\"vid\" + 0.023*\"good\" + 0.019*\"deep\" + 0.018*\"present\" + 0.015*\"channel\" + 0.015*\"know\" + 0.015*\"game\" + 0.014*\"hear\" + 0.014*\"teach\" + 0.013*\"fuck\"'),\n",
       " (1,\n",
       "  '0.019*\"good\" + 0.018*\"girl\" + 0.017*\"woman\" + 0.016*\"man\" + 0.014*\"lot\" + 0.013*\"video\" + 0.012*\"great\" + 0.011*\"time\" + 0.011*\"people\" + 0.010*\"advice\"'),\n",
       " (8,\n",
       "  '0.032*\"woman\" + 0.032*\"like\" + 0.014*\"think\" + 0.013*\"way\" + 0.013*\"girl\" + 0.012*\"guy\" + 0.011*\"good\" + 0.011*\"thing\" + 0.011*\"want\" + 0.010*\"game\"'),\n",
       " (5,\n",
       "  '0.029*\"like\" + 0.026*\"good\" + 0.021*\"shit\" + 0.013*\"man\" + 0.012*\"video\" + 0.011*\"work\" + 0.011*\"dude\" + 0.010*\"\\'_\\'\" + 0.009*\"awesome\" + 0.009*\"right\"')]"
      ]
     },
     "execution_count": 4,
     "metadata": {},
     "output_type": "execute_result"
    }
   ],
   "source": [
    "PUA_model.print_topics(num_topics=10)"
   ]
  },
  {
   "cell_type": "markdown",
   "metadata": {},
   "source": [
    "# DTM"
   ]
  },
  {
   "cell_type": "markdown",
   "metadata": {},
   "source": [
    "* increase alpha for later analysis, since it seems to be small (0.01)"
   ]
  },
  {
   "cell_type": "code",
   "execution_count": 30,
   "metadata": {},
   "outputs": [],
   "source": [
    "years = ['2016', '2017', '2018', '2019']"
   ]
  },
  {
   "cell_type": "code",
   "execution_count": 5,
   "metadata": {},
   "outputs": [],
   "source": [
    "PUA_model = DtmModel.load(\"./lda/PUA_dtm.gensim\")"
   ]
  },
  {
   "cell_type": "code",
   "execution_count": 26,
   "metadata": {},
   "outputs": [
    {
     "data": {
      "text/plain": [
       "[(0.013447028660961367, 'ask'),\n",
       " (0.010625706327051718, 'time'),\n",
       " (0.009141171190827762, 'want'),\n",
       " (0.008032322798099149, 'create'),\n",
       " (0.007767167394102525, 'right'),\n",
       " (0.007338241723163541, 'attention'),\n",
       " (0.007125617489780176, 'good'),\n",
       " (0.006895193529774907, 'make'),\n",
       " (0.006753887731248107, 'live'),\n",
       " (0.006551699325976671, 'attraction')]"
      ]
     },
     "execution_count": 26,
     "metadata": {},
     "output_type": "execute_result"
    }
   ],
   "source": [
    "\n",
    "PUA_model.show_topic(topicid=0, time=0, topn=10)"
   ]
  },
  {
   "cell_type": "code",
   "execution_count": 27,
   "metadata": {},
   "outputs": [],
   "source": [
    "def dict_topic(model, topicid, topn=100):\n",
    "    words_prob = dict()\n",
    "    \n",
    "    for i in range(4):\n",
    "        for prob, word in model.show_topic(topicid=topicid, time=i, topn=topn):\n",
    "            if word not in words_prob:\n",
    "                words_prob[word] = [prob]\n",
    "            else:\n",
    "                words_prob[word].append(prob)\n",
    "                \n",
    "    return words_prob"
   ]
  },
  {
   "cell_type": "code",
   "execution_count": 28,
   "metadata": {},
   "outputs": [],
   "source": [
    "import matplotlib.pyplot as plt\n",
    "import seaborn as sns\n",
    "sns.set()"
   ]
  },
  {
   "cell_type": "code",
   "execution_count": 32,
   "metadata": {},
   "outputs": [
    {
     "data": {
      "image/png": "[encoded data removed]",
      "text/plain": [
       "<Figure size 432x288 with 1 Axes>"
      ]
     },
     "metadata": {},
     "output_type": "display_data"
    }
   ],
   "source": [
    "words_prob = dict_topic(PUA_model, 0)\n",
    "word = 'ask'\n",
    "plt.title(f\"Occurrence of {word} in topic related to ??? on PUA\")\n",
    "sns.pointplot(years, words_prob[word]);"
   ]
  },
  {
   "cell_type": "code",
   "execution_count": null,
   "metadata": {},
   "outputs": [],
   "source": []
  }
 ],
 "metadata": {
  "kernelspec": {
   "display_name": "Python 3",
   "language": "python",
   "name": "python3"
  },
  "language_info": {
   "codemirror_mode": {
    "name": "ipython",
    "version": 3
   },
   "file_extension": ".py",
   "mimetype": "text/x-python",
   "name": "python",
   "nbconvert_exporter": "python",
   "pygments_lexer": "ipython3",
   "version": "3.7.4"
  }
 },
 "nbformat": 4,
 "nbformat_minor": 2
}
